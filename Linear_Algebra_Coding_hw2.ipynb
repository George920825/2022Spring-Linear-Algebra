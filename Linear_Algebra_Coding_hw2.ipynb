{
  "nbformat": 4,
  "nbformat_minor": 0,
  "metadata": {
    "colab": {
      "name": "LA_hw2.ipynb",
      "provenance": [],
      "collapsed_sections": []
    },
    "kernelspec": {
      "name": "python3",
      "display_name": "Python 3"
    },
    "language_info": {
      "name": "python"
    }
  },
  "cells": [
    {
      "cell_type": "markdown",
      "source": [
        "1. Import numpy"
      ],
      "metadata": {
        "id": "FYCOO9dOiO7r"
      }
    },
    {
      "cell_type": "code",
      "execution_count": 5,
      "metadata": {
        "id": "rY9cfRm3iIo7"
      },
      "outputs": [],
      "source": [
        "import numpy as np"
      ]
    },
    {
      "cell_type": "markdown",
      "source": [
        "2. 印出numpy的版本"
      ],
      "metadata": {
        "id": "4qscHOniiaAT"
      }
    },
    {
      "cell_type": "code",
      "source": [
        "print(np.__version__)"
      ],
      "metadata": {
        "colab": {
          "base_uri": "https://localhost:8080/"
        },
        "id": "iUjdSceMiSc8",
        "outputId": "3b54edb6-9230-4550-b298-0d104d551e5e"
      },
      "execution_count": 6,
      "outputs": [
        {
          "output_type": "stream",
          "name": "stdout",
          "text": [
            "1.21.6\n"
          ]
        }
      ]
    },
    {
      "cell_type": "markdown",
      "source": [
        "3. 建立10*5的矩陣，矩陣內的數字皆為0 (5%)\n"
      ],
      "metadata": {
        "id": "OiBkrVMvijT4"
      }
    },
    {
      "cell_type": "code",
      "source": [
        "#印出來的答案應該如下"
      ],
      "metadata": {
        "id": "TwAdUorwiiGk"
      },
      "execution_count": null,
      "outputs": []
    },
    {
      "cell_type": "code",
      "source": [
        "#輪到你試試看\n",
        "import numpy as np\n",
        "\n",
        "print(np.array([\n",
        "        [0, 0, 0, 0, 0],\n",
        "        [0, 0, 0, 0, 0],\n",
        "        [0, 0, 0, 0, 0],\n",
        "        [0, 0, 0, 0, 0],\n",
        "        [0, 0, 0, 0, 0],\n",
        "        [0, 0, 0, 0, 0],\n",
        "        [0, 0, 0, 0, 0],\n",
        "        [0, 0, 0, 0, 0],\n",
        "        [0, 0, 0, 0, 0],\n",
        "        [0, 0, 0, 0, 0]\n",
        "    ]))"
      ],
      "metadata": {
        "colab": {
          "base_uri": "https://localhost:8080/"
        },
        "id": "S232R9BU-_ei",
        "outputId": "a02c41ae-a9a2-40ac-ab76-8559e678eacd"
      },
      "execution_count": 7,
      "outputs": [
        {
          "output_type": "stream",
          "name": "stdout",
          "text": [
            "[[0 0 0 0 0]\n",
            " [0 0 0 0 0]\n",
            " [0 0 0 0 0]\n",
            " [0 0 0 0 0]\n",
            " [0 0 0 0 0]\n",
            " [0 0 0 0 0]\n",
            " [0 0 0 0 0]\n",
            " [0 0 0 0 0]\n",
            " [0 0 0 0 0]\n",
            " [0 0 0 0 0]]\n"
          ]
        }
      ]
    },
    {
      "cell_type": "markdown",
      "source": [
        "4.建立一個如下的矩陣:\n",
        "[[0 1 2]\n",
        " [3 4 5]\n",
        " [6 7 8]]\n",
        " (5%)"
      ],
      "metadata": {
        "id": "WAmEwmATkKCu"
      }
    },
    {
      "cell_type": "code",
      "source": [
        "#印出來的答案應該如下"
      ],
      "metadata": {
        "id": "Yuts96uukJS4"
      },
      "execution_count": 32,
      "outputs": []
    },
    {
      "cell_type": "code",
      "source": [
        "#輪到你試試看\n",
        "import numpy as np\n",
        "\n",
        "print(np.array([\n",
        "        [0, 1, 2],\n",
        "        [3, 4, 5],\n",
        "        [6, 7, 8]\n",
        "    ]))"
      ],
      "metadata": {
        "colab": {
          "base_uri": "https://localhost:8080/"
        },
        "id": "KCROw-N_DnpJ",
        "outputId": "75f51b94-876b-4dae-ee98-4a390e6fad97"
      },
      "execution_count": 8,
      "outputs": [
        {
          "output_type": "stream",
          "name": "stdout",
          "text": [
            "[[0 1 2]\n",
            " [3 4 5]\n",
            " [6 7 8]]\n"
          ]
        }
      ]
    },
    {
      "cell_type": "markdown",
      "source": [
        "5.建立一個5*5的單位矩陣 (5%)"
      ],
      "metadata": {
        "id": "OlUoy5hqk_nh"
      }
    },
    {
      "cell_type": "code",
      "source": [
        "#印出來的答案應該如下"
      ],
      "metadata": {
        "id": "MJAVNbc7lA1W"
      },
      "execution_count": 33,
      "outputs": []
    },
    {
      "cell_type": "code",
      "source": [
        "#輪到你試試看\n",
        "import numpy as np\n",
        "\n",
        "print(np.eye(5, dtype = float))"
      ],
      "metadata": {
        "colab": {
          "base_uri": "https://localhost:8080/"
        },
        "id": "mhZ5bTcIDTJO",
        "outputId": "de40ffe8-2933-4dd0-b180-f804d9be40c5"
      },
      "execution_count": 9,
      "outputs": [
        {
          "output_type": "stream",
          "name": "stdout",
          "text": [
            "[[1. 0. 0. 0. 0.]\n",
            " [0. 1. 0. 0. 0.]\n",
            " [0. 0. 1. 0. 0.]\n",
            " [0. 0. 0. 1. 0.]\n",
            " [0. 0. 0. 0. 1.]]\n"
          ]
        }
      ]
    },
    {
      "cell_type": "markdown",
      "source": [
        "6. 做5x4與4*x3矩陣的相乘 (5%)\n"
      ],
      "metadata": {
        "id": "lJ2IY_eQlnBf"
      }
    },
    {
      "cell_type": "code",
      "source": [
        "#印出來的答案可能如下"
      ],
      "metadata": {
        "id": "Ha3x3Rnal6LX"
      },
      "execution_count": 10,
      "outputs": []
    },
    {
      "cell_type": "code",
      "source": [
        "#輪到你試試看\n",
        "import numpy as np\n",
        "\n",
        "A = np.ones((5, 4))\n",
        "B = np.ones((4, 3))\n",
        "\n",
        "print(np.dot(A, B))"
      ],
      "metadata": {
        "colab": {
          "base_uri": "https://localhost:8080/"
        },
        "id": "VPxJtbu_Gpt5",
        "outputId": "bbb25887-3d8e-48a1-efd3-033d224dc3c1"
      },
      "execution_count": 11,
      "outputs": [
        {
          "output_type": "stream",
          "name": "stdout",
          "text": [
            "[[4. 4. 4.]\n",
            " [4. 4. 4.]\n",
            " [4. 4. 4.]\n",
            " [4. 4. 4.]\n",
            " [4. 4. 4.]]\n"
          ]
        }
      ]
    },
    {
      "cell_type": "markdown",
      "source": [
        "7. 設a為[[1, 0], [1, 2]]的一個矩陣，算出矩陣的determinant (5%)\n"
      ],
      "metadata": {
        "id": "SrIx8zBPA6dn"
      }
    },
    {
      "cell_type": "code",
      "source": [
        "#印出來的答案如下"
      ],
      "metadata": {
        "colab": {
          "base_uri": "https://localhost:8080/"
        },
        "id": "OsM7xLQHqgDS",
        "outputId": "fc8a5d28-154e-4f39-ca7a-cece64fdf849"
      },
      "execution_count": null,
      "outputs": [
        {
          "output_type": "stream",
          "name": "stdout",
          "text": [
            "Determinant of the said 2-D array:\n",
            "2.0\n"
          ]
        }
      ]
    },
    {
      "cell_type": "code",
      "source": [
        "#輪到你試試看\n",
        "import numpy as np\n",
        "from numpy import linalg as LA\n",
        "\n",
        "a = np.array([[1, 0], [1, 2]])\n",
        "det= LA.det(a)\n",
        "\n",
        "print(\"Determinant of the said 2-D array:\")\n",
        "print(det)"
      ],
      "metadata": {
        "id": "6duhdcJJN2Ge",
        "colab": {
          "base_uri": "https://localhost:8080/"
        },
        "outputId": "525d3735-cb73-4a3a-8ac0-9c70086b359c"
      },
      "execution_count": 12,
      "outputs": [
        {
          "output_type": "stream",
          "name": "stdout",
          "text": [
            "Determinant of the said 2-D array:\n",
            "2.0\n"
          ]
        }
      ]
    },
    {
      "cell_type": "markdown",
      "source": [
        "8. 得出inverse矩陣 (5%)"
      ],
      "metadata": {
        "id": "Aq9Z8e87CIqC"
      }
    },
    {
      "cell_type": "code",
      "source": [
        "import numpy as np\n",
        "\n",
        "m = np.array([ \n",
        "        [1, 2],\n",
        "        [3, 4]\n",
        "    ])\n",
        "result = np.linalg.inv(m)  #請上網尋找如何用numpy得出inverse得出inverse\n",
        "\n",
        "print(\"Original matrix:\")\n",
        "print(m)\n",
        "print(\"Inverse of the said matrix:\")\n",
        "print(result)"
      ],
      "metadata": {
        "id": "NNXoG_QWCDA0",
        "colab": {
          "base_uri": "https://localhost:8080/"
        },
        "outputId": "de327a4e-16d5-42eb-86a1-b591371b42d2"
      },
      "execution_count": 13,
      "outputs": [
        {
          "output_type": "stream",
          "name": "stdout",
          "text": [
            "Original matrix:\n",
            "[[1 2]\n",
            " [3 4]]\n",
            "Inverse of the said matrix:\n",
            "[[-2.   1. ]\n",
            " [ 1.5 -0.5]]\n"
          ]
        }
      ]
    },
    {
      "cell_type": "code",
      "source": [
        "#印出來的參考答案如下"
      ],
      "metadata": {
        "colab": {
          "base_uri": "https://localhost:8080/"
        },
        "id": "MGkbuch5BjRh",
        "outputId": "0e6ca1eb-4161-4203-c9bc-5beb70bf0f4d"
      },
      "execution_count": null,
      "outputs": [
        {
          "output_type": "stream",
          "name": "stdout",
          "text": [
            "Original matrix:\n",
            "[[1 2]\n",
            " [3 4]]\n",
            "Inverse of the said matrix:\n",
            "[[-2.   1. ]\n",
            " [ 1.5 -0.5]]\n"
          ]
        }
      ]
    },
    {
      "cell_type": "markdown",
      "source": [
        "9. Row operations and elimination (15%)"
      ],
      "metadata": {
        "id": "NfSksYaWHPkN"
      }
    },
    {
      "cell_type": "code",
      "source": [
        "#不需編撰此處code\n",
        "def RowSwap(A,k,l):\n",
        "# =============================================================================\n",
        "#     A is a NumPy array.  RowSwap will return duplicate array with rows\n",
        "#     k and l swapped.\n",
        "# =============================================================================\n",
        "    m = A.shape[0]  # m is number of rows in A\n",
        "    n = A.shape[1]  # n is number of columns in A\n",
        "    \n",
        "    B = np.copy(A).astype('float64')\n",
        "        \n",
        "    for j in range(n):\n",
        "        temp = B[k][j]\n",
        "        B[k][j] = B[l][j]\n",
        "        B[l][j] = temp\n",
        "        \n",
        "    return B\n",
        "\n",
        "def RowScale(A,k,scale):\n",
        "# =============================================================================\n",
        "#     A is a NumPy array.  RowScale will return duplicate array with the\n",
        "#     entries of row k multiplied by scale.\n",
        "# =============================================================================\n",
        "    m = A.shape[0]  # m is number of rows in A\n",
        "    n = A.shape[1]  # n is number of columns in A\n",
        "    \n",
        "    B = np.copy(A).astype('float64')\n",
        "\n",
        "    for j in range(n):\n",
        "        B[k][j] *= scale\n",
        "        \n",
        "    return B\n",
        "\n",
        "def RowAdd(A,k,l,scale):\n",
        "# =============================================================================\n",
        "#     A is a numpy array.  RowAdd will return duplicate array with row\n",
        "#     l modifed.  The new values will be the old values of row l added to \n",
        "#     the values of row k, multiplied by scale.\n",
        "# =============================================================================\n",
        "    m = A.shape[0]  # m is number of rows in A\n",
        "    n = A.shape[1]  # n is number of columns in A\n",
        "    \n",
        "    B = np.copy(A).astype('float64')\n",
        "        \n",
        "    for j in range(n):\n",
        "        B[l][j] += B[k][j]*scale\n",
        "        \n",
        "    return B  "
      ],
      "metadata": {
        "id": "2HXjQNw5HQ_S"
      },
      "execution_count": 14,
      "outputs": []
    },
    {
      "cell_type": "code",
      "source": [
        "G=np.array([[1,-1,1,3],[2,-2,4,8],[3,0,-9,0]])\n",
        "print(G)\n",
        "## Add -2 times row 0 to row 1\n",
        "G1 = RowAdd(G,0,1,-2)  #fill the code\n",
        "## Add -3 times row 0 to row 2\n",
        "G2 = RowAdd(G1,0,2,-3)  #fill the code\n",
        "## Swap rows 1 and 2\n",
        "G3 = RowSwap(G2,1,2)  #fill the code\n",
        "## Scale the new row 1 by 1/3\n",
        "G4 = RowScale(G3,1,1/3)  #fill the code\n",
        "## Scale the new row 2 by 1/2\n",
        "G5 = RowScale(G4,2,1/2)  #fill the code\n",
        "print(G5)"
      ],
      "metadata": {
        "id": "efpfhd1kHatI",
        "colab": {
          "base_uri": "https://localhost:8080/"
        },
        "outputId": "1b121aa6-9b1a-44b9-f16a-7e1ea6704f86"
      },
      "execution_count": 15,
      "outputs": [
        {
          "output_type": "stream",
          "name": "stdout",
          "text": [
            "[[ 1 -1  1  3]\n",
            " [ 2 -2  4  8]\n",
            " [ 3  0 -9  0]]\n",
            "[[ 1. -1.  1.  3.]\n",
            " [ 0.  1. -4. -3.]\n",
            " [ 0.  0.  1.  1.]]\n"
          ]
        }
      ]
    },
    {
      "cell_type": "code",
      "source": [
        "#印出來的答案如下"
      ],
      "metadata": {
        "colab": {
          "base_uri": "https://localhost:8080/"
        },
        "id": "H9Taql8IGj6m",
        "outputId": "300594ad-eae4-4616-fc3f-95ef41cd4b96"
      },
      "execution_count": null,
      "outputs": [
        {
          "output_type": "stream",
          "name": "stdout",
          "text": [
            "[[ 1 -1  1  3]\n",
            " [ 2 -2  4  8]\n",
            " [ 3  0 -9  0]]\n",
            "[[ 1. -1.  1.  3.]\n",
            " [ 0.  1. -4. -3.]\n",
            " [ 0.  0.  1.  1.]]\n"
          ]
        }
      ]
    },
    {
      "cell_type": "markdown",
      "source": [
        "10. Finding pivots (25%)"
      ],
      "metadata": {
        "id": "HCtzZyaAH5-l"
      }
    },
    {
      "cell_type": "code",
      "source": [
        "G=np.array([[1,-1,1,3],[2,-2,4,8],[3,0,-9,0]])\n",
        "#利用第九題的def來fill the code\n",
        "\n",
        "G1 = RowAdd(G,0,1,-2)\n",
        "G2 = RowAdd(G1,0,2,-3)\n",
        "G3 = RowScale(G2,2,1/3)\n",
        "G4 = RowScale(G3,1,1/2)\n",
        "print(G4)"
      ],
      "metadata": {
        "id": "WjYH-60_H5W2",
        "colab": {
          "base_uri": "https://localhost:8080/"
        },
        "outputId": "29379548-d658-4a62-c4e5-715b635bd847"
      },
      "execution_count": 22,
      "outputs": [
        {
          "output_type": "stream",
          "name": "stdout",
          "text": [
            "[[ 1. -1.  1.  3.]\n",
            " [ 0.  0.  1.  1.]\n",
            " [ 0.  1. -4. -3.]]\n"
          ]
        }
      ]
    },
    {
      "cell_type": "code",
      "source": [
        "G=np.array([[1,-1,1,3],[2,-2,4,8],[3,0,-9,0]])\n",
        "#利用第九題的def來fill the code\n",
        "\n",
        "G1 = RowAdd(G,0,1,G[1,0]*(-1))\n",
        "G2 = RowAdd(G1,0,2,G[2,0]*(-1))\n",
        "G3 = RowScale(G2,1,1/2)\n",
        "G4 = RowScale(G3,2,1/3)\n",
        "print(G4)"
      ],
      "metadata": {
        "colab": {
          "base_uri": "https://localhost:8080/"
        },
        "id": "eg8SYyynexMt",
        "outputId": "71a74b4d-a129-4678-fa11-088ca7439c23"
      },
      "execution_count": 24,
      "outputs": [
        {
          "output_type": "stream",
          "name": "stdout",
          "text": [
            "[[ 1. -1.  1.  3.]\n",
            " [ 0.  0.  1.  1.]\n",
            " [ 0.  1. -4. -3.]]\n"
          ]
        }
      ]
    },
    {
      "cell_type": "code",
      "source": [
        "#印出來的答案如下"
      ],
      "metadata": {
        "colab": {
          "base_uri": "https://localhost:8080/"
        },
        "id": "OwYh5UedIE0e",
        "outputId": "be12e42c-80d8-4056-d03b-d435a6b89c10"
      },
      "execution_count": null,
      "outputs": [
        {
          "output_type": "stream",
          "name": "stdout",
          "text": [
            "[[ 1. -1.  1.  3.]\n",
            " [ 0.  0.  1.  1.]\n",
            " [ 0.  1. -4. -3.]]\n"
          ]
        }
      ]
    },
    {
      "cell_type": "markdown",
      "source": [
        "11.找transpose (5%)"
      ],
      "metadata": {
        "id": "USfMG88hJLXP"
      }
    },
    {
      "cell_type": "code",
      "source": [
        "A = np.array([[5, 4, 2],[1, 9, 3],[6, 5, 2]])\n",
        "A_T = np.transpose(A)  #fill the code\n",
        "print(A_T)"
      ],
      "metadata": {
        "id": "eZRbJT0PJWMO",
        "colab": {
          "base_uri": "https://localhost:8080/"
        },
        "outputId": "10fb5f12-1cf3-4fc9-9903-71f0f452a521"
      },
      "execution_count": 25,
      "outputs": [
        {
          "output_type": "stream",
          "name": "stdout",
          "text": [
            "[[5 1 6]\n",
            " [4 9 5]\n",
            " [2 3 2]]\n"
          ]
        }
      ]
    },
    {
      "cell_type": "code",
      "source": [
        "#印出來的答案如下"
      ],
      "metadata": {
        "colab": {
          "base_uri": "https://localhost:8080/"
        },
        "id": "2W5caMwaJQSH",
        "outputId": "43485f73-6381-4748-8910-46c0894c587d"
      },
      "execution_count": null,
      "outputs": [
        {
          "output_type": "stream",
          "name": "stdout",
          "text": [
            "[[5 1 6]\n",
            " [4 9 5]\n",
            " [2 3 2]]\n"
          ]
        }
      ]
    },
    {
      "cell_type": "markdown",
      "source": [
        "12. 取出特徵向量與特徵值 (5%)"
      ],
      "metadata": {
        "id": "_lwN0QCsEXwL"
      }
    },
    {
      "cell_type": "code",
      "source": [
        "import numpy as np\n",
        "from numpy.linalg import eig\n",
        "\n",
        "a = np.array([[1, 5], \n",
        "        [4, 2]])\n",
        "#complete the code by yourself\n",
        "val,vec=eig(a)\n",
        "\n",
        "print('E-value:', val)\n",
        "print('E-vector', vec)"
      ],
      "metadata": {
        "id": "aJw_jh6eEhEp",
        "colab": {
          "base_uri": "https://localhost:8080/"
        },
        "outputId": "0b7c2e7c-2ec9-432d-d727-b8bdf0f4c911"
      },
      "execution_count": 26,
      "outputs": [
        {
          "output_type": "stream",
          "name": "stdout",
          "text": [
            "E-value: [-3.  6.]\n",
            "E-vector [[-0.78086881 -0.70710678]\n",
            " [ 0.62469505 -0.70710678]]\n"
          ]
        }
      ]
    },
    {
      "cell_type": "code",
      "source": [
        "#印出來的答案如下"
      ],
      "metadata": {
        "colab": {
          "base_uri": "https://localhost:8080/"
        },
        "id": "mU9IxIqOC21W",
        "outputId": "ffb58887-23bd-4e95-d2be-b9a0bd60cd99"
      },
      "execution_count": null,
      "outputs": [
        {
          "output_type": "stream",
          "name": "stdout",
          "text": [
            "E-value: [-3.  6.]\n",
            "E-vector [[-0.78086881 -0.70710678]\n",
            " [ 0.62469505 -0.70710678]]\n"
          ]
        }
      ]
    },
    {
      "cell_type": "markdown",
      "source": [
        "13. 自己設計一題線性代數的題目，並用python實現 (20%，完成即13%、依題目複雜度給予給予剩下七分)"
      ],
      "metadata": {
        "id": "RwU_Pu4OLVKL"
      }
    },
    {
      "cell_type": "markdown",
      "source": [
        "Let 𝐴 = [[1, 1, 1],[0, 2, 1],[0, 0, 1]] and 𝐛 = [6, 3, 2]\n",
        "(a) Use the Gram–Schmidt process to find an orthonormal basis for the column \n",
        "space of A.\n",
        "(b) Factor A into a product QR, where Q has an orthonormal set of column \n",
        "vectors and R is upper triangular.\n",
        "(c) Solve the least squares problem 𝐴x = b."
      ],
      "metadata": {
        "id": "293ScVOByO5Z"
      }
    },
    {
      "cell_type": "code",
      "source": [
        "import numpy as np\n",
        "import numpy.linalg as la\n",
        "\n",
        "A = np.array([[1, 1, 1],[0, 2, 1],[0, 0, 1]])\n",
        "B = np.array([6, 3, 2])\n",
        "\n",
        "Q = np.array(A)\n",
        "\n",
        "Q[:, 0] = Q[:, 0] / la.norm(Q[:, 0])\n",
        "Q[:, 1] = Q[:, 1] - Q[:, 1] @ Q[:, 0] * Q[:, 0]\n",
        "Q[:, 1] = Q[:, 1] / la.norm(Q[:, 1])\n",
        "Q[:, 2] = Q[:, 2] - Q[:, 2] @ Q[:, 0] * Q[:, 0] - Q[:, 2] @ Q[:, 1] * Q[:, 1]\n",
        "Q[:, 2] = Q[:, 2] / la.norm(Q[:, 2])\n",
        "\n",
        "R = np.array(la.inv(Q) @ A)\n",
        "\n",
        "print('Q = ')\n",
        "print(Q)\n",
        "\n",
        "print('R = ')\n",
        "print(R)\n",
        "\n",
        "x = la.inv(R) @ (np.transpose(Q) @ B)\n",
        "\n",
        "print('x = ')\n",
        "print(x)"
      ],
      "metadata": {
        "id": "AbTMiMkmLnpo",
        "colab": {
          "base_uri": "https://localhost:8080/"
        },
        "outputId": "afbbe1ea-a641-4244-ad3b-23210a90af69"
      },
      "execution_count": 60,
      "outputs": [
        {
          "output_type": "stream",
          "name": "stdout",
          "text": [
            "Q = \n",
            "[[1 0 0]\n",
            " [0 1 0]\n",
            " [0 0 1]]\n",
            "R = \n",
            "[[1. 1. 1.]\n",
            " [0. 2. 1.]\n",
            " [0. 0. 1.]]\n",
            "x = \n",
            "[3.5 0.5 2. ]\n"
          ]
        }
      ]
    }
  ]
}